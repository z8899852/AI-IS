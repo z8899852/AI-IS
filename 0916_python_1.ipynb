{
  "nbformat": 4,
  "nbformat_minor": 0,
  "metadata": {
    "colab": {
      "name": "0916-python-1.ipynb",
      "provenance": [],
      "collapsed_sections": [],
      "authorship_tag": "ABX9TyO7mz5tx8nsy9RoC/uJ1+Q7",
      "include_colab_link": true
    },
    "kernelspec": {
      "name": "python3",
      "display_name": "Python 3"
    }
  },
  "cells": [
    {
      "cell_type": "markdown",
      "metadata": {
        "id": "view-in-github",
        "colab_type": "text"
      },
      "source": [
        "<a href=\"https://colab.research.google.com/github/z8899852/AI-IS/blob/master/0916_python_1.ipynb\" target=\"_parent\"><img src=\"https://colab.research.google.com/assets/colab-badge.svg\" alt=\"Open In Colab\"/></a>"
      ]
    },
    {
      "cell_type": "code",
      "metadata": {
        "id": "DUzLrIxlrq2-",
        "colab_type": "code",
        "colab": {}
      },
      "source": [
        "x, y, z = [int(x) for x in input(\"Enter three value: \").split()] \n",
        "print(\"First Number is: \", x) \n",
        "print(\"Second Number is: \", y) \n",
        "print(\"Third Number is: \", z) \n",
        "print()\n",
        "\n",
        "x, y, z = [int(x) for x in input(\"Enter three value: \").split(\",\")] \n",
        "print(\"First Number is: \", x) \n",
        "print(\"Second Number is: \", y) \n",
        "print(\"Third Number is: \", z) \n",
        "print()\n",
        "\n",
        "a, b = input(\"Enter a two value: \").split() \n",
        "print(\"First number is {} and second number is {}\".format(a, b)) \n",
        "print()"
      ],
      "execution_count": null,
      "outputs": []
    }
  ]
}